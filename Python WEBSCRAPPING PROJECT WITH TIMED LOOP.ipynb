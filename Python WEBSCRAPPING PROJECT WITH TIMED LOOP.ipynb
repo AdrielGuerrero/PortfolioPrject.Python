{
 "cells": [
  {
   "cell_type": "code",
   "execution_count": 72,
   "id": "9dfe34ce",
   "metadata": {},
   "outputs": [],
   "source": [
    "\n",
    "\n",
    "# This is a python Webscrapping project where python is used to gather data from the web. In addition, this project\n",
    "# also includes a timed loop which re-runs the code for a desired outcome\n",
    "\n",
    "\n",
    "\n",
    "\n",
    "\n",
    "\n",
    "\n",
    "\n",
    "\n",
    "\n",
    "\n",
    "\n",
    "\n",
    "\n",
    "\n",
    "from bs4 import BeautifulSoup\n",
    "import requests\n",
    "import time\n",
    "import datetime\n",
    "import smtplib"
   ]
  },
  {
   "cell_type": "code",
   "execution_count": 132,
   "id": "27d68f76",
   "metadata": {
    "scrolled": true
   },
   "outputs": [
    {
     "name": "stdout",
     "output_type": "stream",
     "text": [
      "\n",
      "              Funny Got Data MIS Data Systems Business Analyst T-Shirt\n",
      "             \n",
      "\n",
      "                 18 ratings\n",
      "                \n"
     ]
    }
   ],
   "source": [
    "\n",
    "URL = \"https://www.amazon.com/Funny-Data-Systems-Business-Analyst/dp/B07FNW9FGJ/ref=sr_1_10?crid=F62W7A74H97V&keywords=data+analyst+shirt&qid=1683931673&sprefix=data+analyst+shirt%2Caps%2C122&sr=8-10\"\n",
    "\n",
    "headers = {\"User-Agent\": \"Mozilla/5.0 (Windows NT 10.0; Win64; x64) AppleWebKit/537.36 (KHTML, like Gecko) Chrome/113.0.0.0 Safari/537.36 Edg/113.0.1774.35\", \n",
    "    \"X-Amzn-Trace-Id\": \"Root=1-645c2f62-3dc0a9a93d4d726d586e824e\"}\n",
    "\n",
    "\n",
    "\n",
    "page = requests.get(URL, headers=headers)\n",
    "\n",
    "\n",
    "soup1 = BeautifulSoup(page.content, \"html.parser\")\n",
    "\n",
    "soup2 = BeautifulSoup(soup1.prettify(), \"html.parser\")\n",
    "\n",
    "\n",
    "title = soup2.find(id='productTitle').get_text()\n",
    "\n",
    "\n",
    "\n",
    "rating = soup2.find(id='acrCustomerReviewText').get_text()\n",
    "\n",
    "\n",
    "\n",
    "\n",
    "print(title)\n",
    "print(rating)\n",
    "\n",
    "\n",
    "\n",
    "\n",
    "\n"
   ]
  },
  {
   "cell_type": "code",
   "execution_count": 135,
   "id": "249dc730",
   "metadata": {},
   "outputs": [
    {
     "name": "stdout",
     "output_type": "stream",
     "text": [
      "Funny Got Data MIS Data Systems Business Analyst T-Shirt\n",
      "18 ratings\n"
     ]
    }
   ],
   "source": [
    "rating = rating.strip()\n",
    "title = title.strip()\n",
    "\n",
    "print (title)\n",
    "print(rating)\n",
    "\n"
   ]
  },
  {
   "cell_type": "code",
   "execution_count": 141,
   "id": "a8b6011e",
   "metadata": {},
   "outputs": [
    {
     "name": "stdout",
     "output_type": "stream",
     "text": [
      "2023-05-12\n"
     ]
    }
   ],
   "source": [
    "import datetime\n",
    "\n",
    "\n",
    "today = datetime.date.today()\n",
    "\n",
    "print(today)\n",
    "\n",
    "\n",
    "\n",
    "\n",
    "\n"
   ]
  },
  {
   "cell_type": "code",
   "execution_count": 201,
   "id": "a77839bd",
   "metadata": {},
   "outputs": [],
   "source": [
    "import csv\n",
    "\n",
    "\n",
    "header = ['Title','Rating', 'Date']\n",
    "data = [title,rating,today]\n",
    "\n",
    "\n",
    "#with open('AmazonWebScrapperDataSet.csv','w', newline='', encoding='UTF8') as f:\n",
    "    writer = csv.writer(f)\n",
    "    writer.writerow(header)\n",
    "    writer.writerow(data)\n",
    "\n",
    "\n",
    "\n",
    "\n",
    "\n",
    "\n",
    "\n"
   ]
  },
  {
   "cell_type": "code",
   "execution_count": null,
   "id": "aa13f4f0",
   "metadata": {},
   "outputs": [],
   "source": [
    "import pandas as pd\n",
    "\n",
    "df = pd.read_csv(r'C:\\Users\\17084\\Downloads\\AmazonWebScrapperDataSet.csv')\n",
    "\n",
    "            \n",
    "print(df)\n",
    "\n",
    "\n",
    "\n",
    "\n",
    "\n",
    "\n"
   ]
  },
  {
   "cell_type": "code",
   "execution_count": 30,
   "id": "190e8935",
   "metadata": {},
   "outputs": [],
   "source": [
    "\n",
    "\n",
    "def check_rating():\n",
    "\n",
    "\n",
    "    URL = \"https://www.amazon.com/Funny-Data-Systems-Business-Analyst/dp/B07FNW9FGJ/ref=sr_1_10?crid=F62W7A74H97V&keywords=data+analyst+shirt&qid=1683931673&sprefix=data+analyst+shirt%2Caps%2C122&sr=8-10\"\n",
    "\n",
    "    headers = {\"User-Agent\": \"Mozilla/5.0 (Windows NT 10.0; Win64; x64) AppleWebKit/537.36 (KHTML, like Gecko) Chrome/113.0.0.0 Safari/537.36 Edg/113.0.1774.35\", \n",
    "    \"X-Amzn-Trace-Id\": \"Root=1-645c2f62-3dc0a9a93d4d726d586e824e\"}\n",
    "\n",
    "\n",
    "\n",
    "    page = requests.get(URL, headers=headers)\n",
    "\n",
    "\n",
    "    soup1 = BeautifulSoup(page.content, \"html.parser\")\n",
    "\n",
    "    soup2 = BeautifulSoup(soup1.prettify(), \"html.parser\")\n",
    "\n",
    "\n",
    "    title = soup2.find(id='productTitle').get_text()\n",
    "\n",
    "\n",
    "\n",
    "    rating = soup2.find(id='acrCustomerReviewText').get_text()\n",
    "\n",
    "\n",
    "    rating = rating.strip()\n",
    "    title = title.strip()\n",
    "    \n",
    "    \n",
    "    import datetime\n",
    "    today = datetime.date.today()\n",
    "\n",
    "    import csv\n",
    "    header = ['Title','Rating', 'Date']\n",
    "    data = [title,rating,today]\n",
    "    \n",
    "\n",
    "    with open('AmazonWebScrapperDataSet.csv','a+', newline='', encoding='UTF8') as f:\n",
    "        writer = csv.writer(f)\n",
    "        writer.writerow(data)\n",
    "\n",
    "\n",
    "        \n",
    "        \n",
    "\n",
    "\n"
   ]
  },
  {
   "cell_type": "code",
   "execution_count": null,
   "id": "a802327b",
   "metadata": {},
   "outputs": [],
   "source": [
    "while(True):\n",
    "    check_rating()\n",
    "    time.sleep(86400)\n",
    "\n",
    "\n",
    "\n",
    "    \n",
    "    \n",
    "\n",
    "\n"
   ]
  },
  {
   "cell_type": "code",
   "execution_count": null,
   "id": "ad19686b",
   "metadata": {},
   "outputs": [],
   "source": [
    "\n",
    "\n",
    "\n",
    "\n",
    "\n",
    "\n",
    "\n",
    "\n",
    "\n",
    "\n"
   ]
  },
  {
   "cell_type": "code",
   "execution_count": null,
   "id": "30331f39",
   "metadata": {},
   "outputs": [],
   "source": [
    "\n",
    "\n",
    "\n",
    "\n",
    "\n",
    "\n",
    "\n",
    "\n",
    "\n",
    "\n"
   ]
  }
 ],
 "metadata": {
  "kernelspec": {
   "display_name": "Python 3",
   "language": "python",
   "name": "python3"
  },
  "language_info": {
   "codemirror_mode": {
    "name": "ipython",
    "version": 3
   },
   "file_extension": ".py",
   "mimetype": "text/x-python",
   "name": "python",
   "nbconvert_exporter": "python",
   "pygments_lexer": "ipython3",
   "version": "3.9.16"
  }
 },
 "nbformat": 4,
 "nbformat_minor": 5
}
